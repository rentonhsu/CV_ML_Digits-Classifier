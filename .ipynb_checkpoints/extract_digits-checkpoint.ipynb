{
 "cells": [
  {
   "cell_type": "code",
   "execution_count": 10,
   "metadata": {
    "collapsed": true,
    "deletable": true,
    "editable": true
   },
   "outputs": [],
   "source": [
    "import cv2\n",
    "import numpy as np\n",
    "import pandas as pd"
   ]
  },
  {
   "cell_type": "code",
   "execution_count": 11,
   "metadata": {
    "collapsed": true,
    "deletable": true,
    "editable": true
   },
   "outputs": [],
   "source": [
    "def ROI(image):\n",
    "    gray = cv2.cvtColor(image, cv2.COLOR_BAYER_BG2GRAY)\n",
    "    _, binary = cv2.threshold(gray, 200, 255, cv2.THRESH_BINARY_INV)\n",
    "    _, cnts, _ = cv2.findContours(binary, cv2.RETR_EXTERNAL, cv2.CHAIN_APPROX_SIMPLE)\n",
    "    return cnts"
   ]
  },
  {
   "cell_type": "code",
   "execution_count": 12,
   "metadata": {
    "collapsed": true,
    "deletable": true,
    "editable": true
   },
   "outputs": [],
   "source": [
    "def sortContours(cnts):\n",
    "    boundingBoxes = [cv2.boundingRect(cnt) for cnt in cnts]\n",
    "    (cnts, boundingBoxes) = zip(*sorted(zip(cnts, boundingBoxes), key = lambda x:x[1][0], reverse=True))\n",
    "    return (cnts, boundingBoxes)"
   ]
  },
  {
   "cell_type": "code",
   "execution_count": 13,
   "metadata": {
    "collapsed": false,
    "deletable": true,
    "editable": true
   },
   "outputs": [],
   "source": [
    "import csv\n",
    "\n",
    "def labels_CSV(labels, path='labels2.csv'):\n",
    "    hs = open(path,\"a\")\n",
    "    hs.write(\"class\\n\")\n",
    "    for label in labels:\n",
    "        hs.write(str(label) + \"\\n\")\n",
    "    hs.close() "
   ]
  },
  {
   "cell_type": "code",
   "execution_count": 14,
   "metadata": {
    "collapsed": false,
    "deletable": true,
    "editable": true
   },
   "outputs": [],
   "source": [
    "image1 = cv2.imread('final.jpg', 0)\n",
    "image1_colored = cv2.imread('final.jpg')"
   ]
  },
  {
   "cell_type": "code",
   "execution_count": 15,
   "metadata": {
    "collapsed": true,
    "deletable": true,
    "editable": true
   },
   "outputs": [],
   "source": [
    "def ROI_EXtraction(cnt, sourceImg, sizeLimit=250, resize=28, padding=2):\n",
    "    x, y, w, h = cv2.boundingRect(cnt)\n",
    "    if (w*h > sizeLimit):\n",
    "#         _multiplier = resize / (h + padding)\n",
    "        _length = h + padding\n",
    "        _widthOffset = int((_length - w + padding) / 2)\n",
    "        print(y-padding,y+padding,x-_widthOffset,x+_widthOffset)\n",
    "        roi = sourceImg.copy()\n",
    "        roi = roi[y-padding:y+h+padding,x-_widthOffset:x+_widthOffset+w]\n",
    "        roi[0:-1,0:_widthOffset] = 255\n",
    "        roi[0:-1,w + _widthOffset:] = 255\n",
    "        return roi"
   ]
  },
  {
   "cell_type": "code",
   "execution_count": 7,
   "metadata": {
    "collapsed": false,
    "deletable": true,
    "editable": true
   },
   "outputs": [
    {
     "name": "stdout",
     "output_type": "stream",
     "text": [
      "117 121 577 599\n",
      "219 223 580 594\n",
      "168 172 579 593\n",
      "15 19 579 593\n",
      "67 71 578 592\n",
      "168 172 554 576\n",
      "66 70 554 576\n",
      "117 121 555 569\n",
      "15 19 554 570\n",
      "219 223 532 546\n",
      "168 172 532 546\n",
      "117 121 531 547\n",
      "67 71 533 545\n",
      "15 19 532 546\n",
      "117 121 509 523\n",
      "219 223 508 522\n",
      "168 172 507 523\n",
      "67 71 509 521\n",
      "15 19 508 522\n",
      "219 223 483 505\n",
      "16 20 486 500\n",
      "168 172 485 499\n",
      "117 121 484 500\n",
      "67 71 486 496\n",
      "219 223 462 476\n",
      "168 172 461 477\n",
      "117 121 462 476\n",
      "67 71 462 476\n",
      "16 20 462 474\n",
      "117 121 436 460\n",
      "15 19 439 453\n",
      "168 172 438 452\n",
      "67 71 438 452\n",
      "220 224 439 449\n",
      "15 19 415 431\n",
      "67 71 414 430\n",
      "220 224 415 427\n",
      "169 173 415 427\n",
      "117 121 415 427\n",
      "118 122 393 407\n",
      "169 173 391 407\n",
      "67 71 391 407\n",
      "219 223 390 406\n",
      "15 19 392 404\n",
      "219 223 367 383\n",
      "168 172 368 382\n",
      "15 19 367 383\n",
      "117 121 367 381\n",
      "67 71 367 381\n",
      "67 71 346 360\n",
      "168 172 345 359\n",
      "219 223 344 358\n",
      "117 121 344 358\n",
      "15 19 343 359\n",
      "117 121 319 341\n",
      "66 70 319 341\n",
      "219 223 321 337\n",
      "15 19 321 335\n",
      "169 173 322 332\n",
      "219 223 298 312\n",
      "168 172 298 312\n",
      "67 71 297 313\n",
      "118 122 298 310\n",
      "15 19 296 312\n",
      "219 223 275 289\n",
      "117 121 274 288\n",
      "15 19 273 289\n",
      "168 172 273 287\n",
      "67 71 274 286\n",
      "15 19 249 271\n",
      "219 223 250 266\n",
      "168 172 250 264\n",
      "117 121 250 264\n",
      "67 71 250 264\n",
      "220 224 229 243\n",
      "168 172 228 242\n",
      "67 71 228 242\n",
      "15 19 227 243\n",
      "117 121 227 241\n",
      "219 223 204 218\n",
      "117 121 203 219\n",
      "67 71 204 218\n",
      "15 19 204 218\n",
      "169 173 204 216\n",
      "15 19 181 195\n",
      "219 223 180 194\n",
      "169 173 181 193\n",
      "67 71 181 193\n",
      "118 122 181 191\n",
      "219 223 155 177\n",
      "168 172 158 172\n",
      "118 122 158 172\n",
      "67 71 157 173\n",
      "15 19 157 171\n",
      "117 121 132 154\n",
      "219 223 134 148\n",
      "168 172 134 148\n",
      "67 71 134 148\n",
      "15 19 134 148\n",
      "117 121 108 130\n",
      "219 223 110 124\n",
      "169 173 110 124\n",
      "67 71 111 123\n",
      "16 20 110 122\n",
      "117 121 85 107\n",
      "15 19 85 107\n",
      "169 173 87 101\n",
      "219 223 86 100\n",
      "67 71 87 99\n",
      "169 173 63 79\n",
      "117 121 64 78\n",
      "67 71 64 78\n",
      "220 224 64 74\n",
      "15 19 61 77\n",
      "168 172 40 54\n",
      "15 19 40 54\n",
      "220 224 41 51\n",
      "118 122 41 51\n",
      "67 71 40 52\n",
      "168 172 14 38\n",
      "219 223 17 31\n",
      "117 121 16 30\n",
      "67 71 17 29\n"
     ]
    }
   ],
   "source": [
    "path = 'ior/'\n",
    "size = 28\n",
    "labels = []\n",
    "counter = 0\n",
    "\n",
    "cnts = ROI(image1)[1:-1]\n",
    "(sorted_cnts, boundingBoxes) = sortContours(cnts)\n",
    "for roi in sorted_cnts:\n",
    "    output = ROI_EXtraction(roi, image1)\n",
    "    output = cv2.resize(output, (size, size))\n",
    "    cv2.imshow('canvas', output)\n",
    "    label = int(chr(cv2.waitKey()))\n",
    "    \n",
    "    labels.append(label)\n",
    "    full_path = path + 'ior{}.jpg'.format(counter)\n",
    "    cv2.imwrite(full_path, output)\n",
    "    counter += 1\n",
    "#         cv2.imwrite(r\"ior\\digit_{}.jpg\".format(str(counter)), _resized)"
   ]
  },
  {
   "cell_type": "code",
   "execution_count": null,
   "metadata": {
    "collapsed": true
   },
   "outputs": [],
   "source": [
    "import os\n",
    "import cv2\n",
    "\n",
    "\n",
    "ior_folder = 'ior/'\n",
    "files = os.listdir(ior_folder)\n",
    "files = sorted(files, key = lambda x:int(x[3:].split('.')[0]), reverse=True)\n",
    "\n",
    "_size = 28\n",
    "for file in files:\n",
    "    fullPath = ior_folder + file\n",
    "    image = cv2.imread(fullPath)\n",
    "    image = cv2.resize(image, (_size, _size))\n",
    "    cv2.imwrite(fullPath, image)"
   ]
  }
 ],
 "metadata": {
  "kernelspec": {
   "display_name": "Python 3",
   "language": "python",
   "name": "python3"
  },
  "language_info": {
   "codemirror_mode": {
    "name": "ipython",
    "version": 3
   },
   "file_extension": ".py",
   "mimetype": "text/x-python",
   "name": "python",
   "nbconvert_exporter": "python",
   "pygments_lexer": "ipython3",
   "version": "3.5.3"
  }
 },
 "nbformat": 4,
 "nbformat_minor": 2
}
