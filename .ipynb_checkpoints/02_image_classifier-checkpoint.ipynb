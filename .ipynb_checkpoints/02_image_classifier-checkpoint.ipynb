{
 "cells": [
  {
   "cell_type": "markdown",
   "metadata": {
    "deletable": true,
    "editable": true
   },
   "source": [
    "## Preprocess data"
   ]
  },
  {
   "cell_type": "code",
   "execution_count": 20,
   "metadata": {
    "collapsed": false,
    "deletable": true,
    "editable": true
   },
   "outputs": [],
   "source": [
    "import cv2\n",
    "import numpy as np\n",
    "import pandas as pd\n",
    "import tensorflow as tf\n",
    "import tflearn"
   ]
  },
  {
   "cell_type": "markdown",
   "metadata": {
    "deletable": true,
    "editable": true
   },
   "source": [
    "## 將蒐集好的數字圖片資料庫傳化成深度學習使用的訓練資料,需要:\n",
    "#### 1.一般圖片有RGB,3個CHANNEL,用於字體辨識的前提下,字的形體才是主要因素而不是顏色,因此必須將原本有三通道的圖片轉為單通道的灰階圖\n",
    "#### 2.將圖片轉成長度為\"長乘以寬\"的1D陣列,或以實例舉例: 一張 28X28的圖片,轉成1D陣列後的形體會是有784個數值的陣列\n",
    "#### 3.將每個數字圖片對應的label轉成ONE_HOT_ENCODING形式"
   ]
  },
  {
   "cell_type": "code",
   "execution_count": 21,
   "metadata": {
    "collapsed": true,
    "deletable": true,
    "editable": true
   },
   "outputs": [],
   "source": [
    "#取得所有圖片資料,並且由圖片編號排序\n",
    "import os\n",
    "def ls(root):\n",
    "    ior_folder = root\n",
    "    files = os.listdir(ior_folder)\n",
    "    files = sorted(files, key = lambda x:int(x[3:].split('.')[0]), reverse=False)\n",
    "    return files"
   ]
  },
  {
   "cell_type": "markdown",
   "metadata": {
    "deletable": true,
    "editable": true
   },
   "source": [
    "## DEMO 圖片轉換過程\n",
    "以下過程是將一28X28圖片轉為1D陣列的驗證"
   ]
  },
  {
   "cell_type": "code",
   "execution_count": 22,
   "metadata": {
    "collapsed": false,
    "deletable": true,
    "editable": true
   },
   "outputs": [
    {
     "name": "stdout",
     "output_type": "stream",
     "text": [
      "Before convertion: Row-28, Column-28\n",
      "Before convertion: Row-1, Column-784\n"
     ]
    }
   ],
   "source": [
    "image = cv2.imread('digits_dataset/all/1_001.jpg', 0) #讀取圖片為灰階圖\n",
    "print('Before convertion: Row-{}, Column-{}'.format(image.shape[0], image.shape[1])) #顯示原本陣列形狀,原始為(28, 28)\n",
    "image = image.reshape(1, 28**2) #轉為1D陣列\n",
    "print('Before convertion: Row-{}, Column-{}'.format(image.shape[0], image.shape[1])) #顯示轉換後陣列形狀,為(1, 784)"
   ]
  },
  {
   "cell_type": "markdown",
   "metadata": {
    "deletable": true,
    "editable": true
   },
   "source": [
    "# Dataset class"
   ]
  },
  {
   "cell_type": "code",
   "execution_count": 23,
   "metadata": {
    "collapsed": false,
    "deletable": true,
    "editable": true
   },
   "outputs": [],
   "source": [
    "import cv2\n",
    "import numpy as np\n",
    "import pandas as pd\n",
    "\n",
    "class digitsDataset:\n",
    "    res = 28\n",
    "    root = 'digits_dataset/all/'\n",
    "    \n",
    "    def __init(self):\n",
    "        pass\n",
    "    \n",
    "    def ls(self):\n",
    "        files = os.listdir(self.root)\n",
    "        return files\n",
    "\n",
    "    #讀取所有圖片檔案,轉為1D陣列\n",
    "    #Turn image to 1D ARRAY\n",
    "    def load_image(self):\n",
    "        files = self.ls()\n",
    "        X = []\n",
    "\n",
    "        for index, obj in enumerate(files):\n",
    "            image = cv2.imread((self.root + obj), 0)\n",
    "            flatten = image.reshape(self.res**2,)\n",
    "            X.append(flatten)\n",
    "        return np.array(X)\n",
    "\n",
    "    #當學習數值為離散型或為分類任務時,使用one hot encoding\n",
    "    def one_hot(self, columns, value):\n",
    "        output = np.zeros((1, columns))\n",
    "        output[0][value] = 1\n",
    "        return output\n",
    "\n",
    "    #每張圖片所對應之label,轉為one hot型態\n",
    "    def load_labels(self):\n",
    "        file = 'labels/labels.csv'\n",
    "        values = pd.read_csv(file).values\n",
    "        rows = len(values)\n",
    "        columns = 10\n",
    "        output = np.zeros((rows,columns))\n",
    "        for index, number in enumerate(values):\n",
    "            one_hot_encoding = self.one_hot(columns, number)\n",
    "            output[index] = one_hot_encoding\n",
    "        return output\n",
    "\n",
    "    def LOAD_DATA(self, one_hot = True):\n",
    "        if one_hot == True:\n",
    "            train_x = self.load_image()\n",
    "            train_y = self.load_labels()\n",
    "            return (train_x, train_y)"
   ]
  },
  {
   "cell_type": "code",
   "execution_count": 24,
   "metadata": {
    "collapsed": false,
    "deletable": true,
    "editable": true
   },
   "outputs": [],
   "source": [
    "train_x, train_y = digitsDataset().LOAD_DATA()"
   ]
  },
  {
   "cell_type": "code",
   "execution_count": 25,
   "metadata": {
    "collapsed": true,
    "deletable": true,
    "editable": true
   },
   "outputs": [],
   "source": [
    "def build_model():\n",
    "    # This resets all parameters and variables, leave this here\n",
    "    tf.reset_default_graph() \n",
    "    #### Your code ####\n",
    "    # Include the input layer, hidden layer(s), and set how you want to train the model\n",
    "    net = tflearn.input_data([None, 784])\n",
    "    net = tflearn.fully_connected(net, 200, activation='RELU')\n",
    "    net = tflearn.fully_connected(net, 25, activation='RELU')\n",
    "    net = tflearn.fully_connected(net, 10, activation='softmax')\n",
    "    net = tflearn.regression(net, optimizer='sgd', learning_rate=0.01, loss='categorical_crossentropy')   \n",
    "    # This model assumes that your network is named \"net\"    \n",
    "    model = tflearn.DNN(net)\n",
    "    return model"
   ]
  },
  {
   "cell_type": "code",
   "execution_count": 26,
   "metadata": {
    "collapsed": true,
    "deletable": true,
    "editable": true
   },
   "outputs": [],
   "source": [
    "model = build_model()"
   ]
  },
  {
   "cell_type": "code",
   "execution_count": 27,
   "metadata": {
    "collapsed": false,
    "deletable": true,
    "editable": true
   },
   "outputs": [
    {
     "name": "stdout",
     "output_type": "stream",
     "text": [
      "Training Step: 299  | total loss: \u001b[1m\u001b[32m0.90900\u001b[0m\u001b[0m | time: 0.038s\n",
      "| SGD | epoch: 050 | loss: 0.90900 - acc: 0.9015 -- iter: 500/576\n",
      "Training Step: 300  | total loss: \u001b[1m\u001b[32m0.81940\u001b[0m\u001b[0m | time: 1.051s\n",
      "| SGD | epoch: 050 | loss: 0.81940 - acc: 0.9113 | val_loss: 0.01509 - val_acc: 1.0000 -- iter: 576/576\n",
      "--\n"
     ]
    }
   ],
   "source": [
    "# Training\n",
    "model.fit(train_x, train_y, validation_set=0.01, show_metric=True, batch_size=100, n_epoch=50)"
   ]
  },
  {
   "cell_type": "code",
   "execution_count": 30,
   "metadata": {
    "collapsed": false,
    "deletable": true,
    "editable": true
   },
   "outputs": [
    {
     "name": "stdout",
     "output_type": "stream",
     "text": [
      "辨識模型對本圖預測數字為:0\n"
     ]
    },
    {
     "data": {
      "image/png": "[encoded data removed]",
      "text/plain": [
       "<matplotlib.figure.Figure at 0x1e35efa7a58>"
      ]
     },
     "metadata": {},
     "output_type": "display_data"
    }
   ],
   "source": [
    "%matplotlib inline\n",
    "import matplotlib.pyplot as plt\n",
    "import time\n",
    "\n",
    "def predict():\n",
    "    zero = train_x[2].reshape(1, 784) #一張數字為0的圖片\n",
    "    prediction = np.argmax(model.predict(zero)) #使用深度學習模型預測該圖的數字\n",
    "    print('辨識模型對本圖預測數字為:{}'.format(prediction))\n",
    "def showImage():\n",
    "    cv2Img = train_x[2].reshape(28, 28)\n",
    "    plt.imshow(cv2Img,cmap='gray')\n",
    "    predict()\n",
    "    \n",
    "showImage()"
   ]
  },
  {
   "cell_type": "markdown",
   "metadata": {},
   "source": [
    "# TEST TEST TEST"
   ]
  },
  {
   "cell_type": "code",
   "execution_count": 31,
   "metadata": {
    "collapsed": true
   },
   "outputs": [],
   "source": [
    "def sortContours(cnts):\n",
    "    boundingBoxes = [cv2.boundingRect(cnt) for cnt in cnts]\n",
    "    (cnts, boundingBoxes) = zip(*sorted(zip(cnts, boundingBoxes), key = lambda x:x[1][0], reverse=False))\n",
    "    return (cnts, boundingBoxes)"
   ]
  },
  {
   "cell_type": "code",
   "execution_count": 32,
   "metadata": {
    "collapsed": true,
    "deletable": true,
    "editable": true
   },
   "outputs": [],
   "source": [
    "def ROI_EXtraction(cnt, sourceImg, sizeLimit=250, resize=28, padding=2):\n",
    "    x, y, w, h = cv2.boundingRect(cnt)\n",
    "    if (w*h > sizeLimit):\n",
    "        _length = h + padding\n",
    "        _widthOffset = int((_length - w + padding) / 2)\n",
    "        roi = sourceImg.copy()\n",
    "        roi = roi[y-padding:y+h+padding,x-_widthOffset:x+_widthOffset+w]\n",
    "        roi[0:-1,0:_widthOffset] = 255\n",
    "        roi[0:-1,w + _widthOffset:] = 255\n",
    "        return roi"
   ]
  },
  {
   "cell_type": "code",
   "execution_count": 40,
   "metadata": {
    "collapsed": false,
    "deletable": true,
    "editable": true
   },
   "outputs": [],
   "source": [
    "import os\n",
    "\n",
    "path = r'images/housingSite/'\n",
    "files = os.listdir(path)\n",
    "temp = None\n",
    "for file in files:\n",
    "    image = cv2.imread(path + file, 0)\n",
    "    image = cv2.resize(image, (image.shape[1]*5, image.shape[0]*5))\n",
    "    image_colored = cv2.imread(path + file)\n",
    "    image_colored = cv2.resize(image_colored, (image_colored.shape[1]*5, image_colored.shape[0]*5))\n",
    "    \n",
    "    rec, binary = cv2.threshold(image, 200, 255, cv2.THRESH_BINARY)\n",
    "    _, contours, _ = cv2.findContours(binary.copy(), cv2.RETR_LIST, cv2.CHAIN_APPROX_SIMPLE)\n",
    "    sorted_cnts, bdBoxes = sortContours(contours)\n",
    "    \n",
    "    for cnt in sorted_cnts:\n",
    "        x, y, w, h =  cv2.boundingRect(cnt)\n",
    "        if (w*h > 2000) and (w*h < 20000):\n",
    "            roi = ROI_EXtraction(cnt, binary.copy())\n",
    "            input = cv2.resize(roi, (28, 28)).reshape(1, 784)\n",
    "            prediction = np.argmax(model.predict(input))\n",
    "            cv2.putText(image_colored,str(prediction), (x,y), cv2.FONT_HERSHEY_SIMPLEX, 3, (0,0,0))\n",
    "            cv2.imshow('',image_colored)\n",
    "            cv2.waitKey()\n",
    "cv2.destroyAllWindows()"
   ]
  }
 ],
 "metadata": {
  "kernelspec": {
   "display_name": "Python 3",
   "language": "python",
   "name": "python3"
  },
  "language_info": {
   "codemirror_mode": {
    "name": "ipython",
    "version": 3
   },
   "file_extension": ".py",
   "mimetype": "text/x-python",
   "name": "python",
   "nbconvert_exporter": "python",
   "pygments_lexer": "ipython3",
   "version": "3.5.3"
  }
 },
 "nbformat": 4,
 "nbformat_minor": 2
}
